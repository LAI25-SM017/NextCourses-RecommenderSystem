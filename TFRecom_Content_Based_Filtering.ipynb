{
  "cells": [
    {
      "cell_type": "markdown",
      "metadata": {
        "id": "fKADPWcFKlj3"
      },
      "source": [
        "# **1. Import Library**"
      ]
    },
    {
      "cell_type": "code",
      "execution_count": 58,
      "metadata": {
        "id": "NLEFhKpwWDsp"
      },
      "outputs": [],
      "source": [
        "# !pip install tensorflow_recommenders"
      ]
    },
    {
      "cell_type": "code",
      "source": [
        "# !pip install tensorflow==2.15.0"
      ],
      "metadata": {
        "id": "BUVjpGgnfMrd"
      },
      "execution_count": 59,
      "outputs": []
    },
    {
      "cell_type": "code",
      "source": [
        "# !pip install keras-tuner"
      ],
      "metadata": {
        "id": "tajKuA3cDYX4"
      },
      "execution_count": 60,
      "outputs": []
    },
    {
      "cell_type": "code",
      "source": [
        "import tensorflow as tf\n",
        "print(tf.__version__)\n",
        "print(\"Num GPUs Available: \", len(tf.config.list_physical_devices('GPU')))"
      ],
      "metadata": {
        "colab": {
          "base_uri": "https://localhost:8080/"
        },
        "id": "gS5ZBGmZiqyh",
        "outputId": "97d6c7ec-16c0-4988-b5d2-4795c4567153"
      },
      "execution_count": 61,
      "outputs": [
        {
          "output_type": "stream",
          "name": "stdout",
          "text": [
            "2.15.0\n",
            "Num GPUs Available:  0\n"
          ]
        }
      ]
    },
    {
      "cell_type": "code",
      "execution_count": 62,
      "metadata": {
        "id": "BlmvjLY9M4Yj"
      },
      "outputs": [],
      "source": [
        "# Standard Libraries\n",
        "import os\n",
        "import time\n",
        "import random\n",
        "import pickle\n",
        "from collections import Counter\n",
        "import difflib\n",
        "\n",
        "# Seed Setup\n",
        "import numpy as np\n",
        "np.random.seed(0)  # Set seed sebelum pengacakan\n",
        "\n",
        "# Data Manipulation & Preprocessing\n",
        "import pandas as pd\n",
        "from sklearn.model_selection import train_test_split\n",
        "from sklearn.preprocessing import MinMaxScaler\n",
        "from sklearn.metrics.pairwise import cosine_similarity\n",
        "from sklearn.metrics import ndcg_score\n",
        "\n",
        "# Deep Learning & Modeling\n",
        "import tensorflow as tf\n",
        "import tensorflow_recommenders as tfrs\n",
        "from tensorflow.keras.callbacks import EarlyStopping, ReduceLROnPlateau, ModelCheckpoint\n",
        "import keras_tuner as kt\n",
        "\n",
        "# Visualization\n",
        "import matplotlib.pyplot as plt\n",
        "import seaborn as sns\n",
        "import plotly.express as px\n",
        "\n",
        "# Optional / Custom Libraries\n",
        "import kagglehub\n",
        "\n",
        "# Pandas Configuration\n",
        "pd.set_option('display.max_columns', None)\n",
        "# pd.set_option('display.max_rows', None)\n",
        "pd.set_option(\"display.float_format\", lambda x: \"%.4f\" % x)\n",
        "\n",
        "# Warnings Configuration\n",
        "import warnings\n",
        "warnings.filterwarnings(\"ignore\")"
      ]
    },
    {
      "cell_type": "code",
      "source": [
        "import os\n",
        "os.environ['TF_USE_LEGACY_KERAS'] = '1'"
      ],
      "metadata": {
        "id": "BrUru8FmfHLU"
      },
      "execution_count": 63,
      "outputs": []
    },
    {
      "cell_type": "code",
      "source": [
        "from google.colab import drive\n",
        "drive.mount('/content/drive')"
      ],
      "metadata": {
        "colab": {
          "base_uri": "https://localhost:8080/"
        },
        "id": "eexKZLwXV5-X",
        "outputId": "e34adbce-5819-48ad-e250-fd4ffe807d9e"
      },
      "execution_count": 64,
      "outputs": [
        {
          "output_type": "stream",
          "name": "stdout",
          "text": [
            "Drive already mounted at /content/drive; to attempt to forcibly remount, call drive.mount(\"/content/drive\", force_remount=True).\n"
          ]
        }
      ]
    },
    {
      "cell_type": "markdown",
      "metadata": {
        "id": "-TN20NySi_CF"
      },
      "source": [
        "# **2. Load Dataset**"
      ]
    },
    {
      "cell_type": "code",
      "execution_count": 65,
      "metadata": {
        "id": "TEFdPqMgFrA6"
      },
      "outputs": [],
      "source": [
        "mainPath =  '/content/drive/MyDrive/Colab Notebooks/Capstone - Course Recommender Systems/' # Path of the main project\n",
        "dataPath = os.path.join(mainPath, 'Dataset/') # Path of the dataset"
      ]
    },
    {
      "cell_type": "code",
      "execution_count": 66,
      "metadata": {
        "id": "Myjf2w6Ei9qA"
      },
      "outputs": [],
      "source": [
        "# Load the CSV file from the URL\n",
        "df_courses = pd.read_csv(dataPath + 'udemy_courses_new.csv')\n",
        "\n",
        "# Amankan salinan aslinya untuk Inference\n",
        "df_courses_raw = df_courses.copy()"
      ]
    },
    {
      "cell_type": "code",
      "source": [
        "df_courses.info()"
      ],
      "metadata": {
        "colab": {
          "base_uri": "https://localhost:8080/"
        },
        "id": "GEkh5D5wSa5w",
        "outputId": "f5ac73bc-fa58-4d69-94f4-edecac6469bb"
      },
      "execution_count": 67,
      "outputs": [
        {
          "output_type": "stream",
          "name": "stdout",
          "text": [
            "<class 'pandas.core.frame.DataFrame'>\n",
            "RangeIndex: 3672 entries, 0 to 3671\n",
            "Data columns (total 14 columns):\n",
            " #   Column               Non-Null Count  Dtype  \n",
            "---  ------               --------------  -----  \n",
            " 0   course_id            3672 non-null   int64  \n",
            " 1   course_title         3672 non-null   object \n",
            " 2   url                  3672 non-null   object \n",
            " 3   is_paid              3672 non-null   bool   \n",
            " 4   price                3672 non-null   int64  \n",
            " 5   num_subscribers      3672 non-null   int64  \n",
            " 6   num_reviews          3672 non-null   int64  \n",
            " 7   num_lectures         3672 non-null   int64  \n",
            " 8   level                3672 non-null   object \n",
            " 9   content_duration     3672 non-null   float64\n",
            " 10  published_timestamp  3672 non-null   object \n",
            " 11  subject              3672 non-null   object \n",
            " 12  total_interactions   3672 non-null   int64  \n",
            " 13  total_users          3672 non-null   int64  \n",
            "dtypes: bool(1), float64(1), int64(7), object(5)\n",
            "memory usage: 376.7+ KB\n"
          ]
        }
      ]
    },
    {
      "cell_type": "code",
      "execution_count": 68,
      "metadata": {
        "colab": {
          "base_uri": "https://localhost:8080/",
          "height": 236
        },
        "id": "OUJ6UWZ4S8ex",
        "outputId": "71d733ac-9f37-4121-c440-9e4b2576705d"
      },
      "outputs": [
        {
          "output_type": "execute_result",
          "data": {
            "text/plain": [
              "   course_id                                       course_title  \\\n",
              "0    1070968                 Ultimate Investment Banking Course   \n",
              "1    1113822  Complete GST Course & Certification - Grow You...   \n",
              "\n",
              "                                                 url  is_paid  price  \\\n",
              "0  https://www.udemy.com/ultimate-investment-bank...     True    200   \n",
              "1      https://www.udemy.com/goods-and-services-tax/     True     75   \n",
              "\n",
              "   num_subscribers  num_reviews  num_lectures       level  content_duration  \\\n",
              "0             2147           23            51  All Levels            1.5000   \n",
              "1             2792          923           274  All Levels           39.0000   \n",
              "\n",
              "    published_timestamp           subject  total_interactions  total_users  \n",
              "0  2017-01-18T20:58:58Z  Business Finance                  10           10  \n",
              "1  2017-03-09T16:34:20Z  Business Finance                  15           14  "
            ],
            "text/html": [
              "\n",
              "  <div id=\"df-72151951-eb1d-4deb-83be-0615100e2058\" class=\"colab-df-container\">\n",
              "    <div>\n",
              "<style scoped>\n",
              "    .dataframe tbody tr th:only-of-type {\n",
              "        vertical-align: middle;\n",
              "    }\n",
              "\n",
              "    .dataframe tbody tr th {\n",
              "        vertical-align: top;\n",
              "    }\n",
              "\n",
              "    .dataframe thead th {\n",
              "        text-align: right;\n",
              "    }\n",
              "</style>\n",
              "<table border=\"1\" class=\"dataframe\">\n",
              "  <thead>\n",
              "    <tr style=\"text-align: right;\">\n",
              "      <th></th>\n",
              "      <th>course_id</th>\n",
              "      <th>course_title</th>\n",
              "      <th>url</th>\n",
              "      <th>is_paid</th>\n",
              "      <th>price</th>\n",
              "      <th>num_subscribers</th>\n",
              "      <th>num_reviews</th>\n",
              "      <th>num_lectures</th>\n",
              "      <th>level</th>\n",
              "      <th>content_duration</th>\n",
              "      <th>published_timestamp</th>\n",
              "      <th>subject</th>\n",
              "      <th>total_interactions</th>\n",
              "      <th>total_users</th>\n",
              "    </tr>\n",
              "  </thead>\n",
              "  <tbody>\n",
              "    <tr>\n",
              "      <th>0</th>\n",
              "      <td>1070968</td>\n",
              "      <td>Ultimate Investment Banking Course</td>\n",
              "      <td>https://www.udemy.com/ultimate-investment-bank...</td>\n",
              "      <td>True</td>\n",
              "      <td>200</td>\n",
              "      <td>2147</td>\n",
              "      <td>23</td>\n",
              "      <td>51</td>\n",
              "      <td>All Levels</td>\n",
              "      <td>1.5000</td>\n",
              "      <td>2017-01-18T20:58:58Z</td>\n",
              "      <td>Business Finance</td>\n",
              "      <td>10</td>\n",
              "      <td>10</td>\n",
              "    </tr>\n",
              "    <tr>\n",
              "      <th>1</th>\n",
              "      <td>1113822</td>\n",
              "      <td>Complete GST Course &amp; Certification - Grow You...</td>\n",
              "      <td>https://www.udemy.com/goods-and-services-tax/</td>\n",
              "      <td>True</td>\n",
              "      <td>75</td>\n",
              "      <td>2792</td>\n",
              "      <td>923</td>\n",
              "      <td>274</td>\n",
              "      <td>All Levels</td>\n",
              "      <td>39.0000</td>\n",
              "      <td>2017-03-09T16:34:20Z</td>\n",
              "      <td>Business Finance</td>\n",
              "      <td>15</td>\n",
              "      <td>14</td>\n",
              "    </tr>\n",
              "  </tbody>\n",
              "</table>\n",
              "</div>\n",
              "    <div class=\"colab-df-buttons\">\n",
              "\n",
              "  <div class=\"colab-df-container\">\n",
              "    <button class=\"colab-df-convert\" onclick=\"convertToInteractive('df-72151951-eb1d-4deb-83be-0615100e2058')\"\n",
              "            title=\"Convert this dataframe to an interactive table.\"\n",
              "            style=\"display:none;\">\n",
              "\n",
              "  <svg xmlns=\"http://www.w3.org/2000/svg\" height=\"24px\" viewBox=\"0 -960 960 960\">\n",
              "    <path d=\"M120-120v-720h720v720H120Zm60-500h600v-160H180v160Zm220 220h160v-160H400v160Zm0 220h160v-160H400v160ZM180-400h160v-160H180v160Zm440 0h160v-160H620v160ZM180-180h160v-160H180v160Zm440 0h160v-160H620v160Z\"/>\n",
              "  </svg>\n",
              "    </button>\n",
              "\n",
              "  <style>\n",
              "    .colab-df-container {\n",
              "      display:flex;\n",
              "      gap: 12px;\n",
              "    }\n",
              "\n",
              "    .colab-df-convert {\n",
              "      background-color: #E8F0FE;\n",
              "      border: none;\n",
              "      border-radius: 50%;\n",
              "      cursor: pointer;\n",
              "      display: none;\n",
              "      fill: #1967D2;\n",
              "      height: 32px;\n",
              "      padding: 0 0 0 0;\n",
              "      width: 32px;\n",
              "    }\n",
              "\n",
              "    .colab-df-convert:hover {\n",
              "      background-color: #E2EBFA;\n",
              "      box-shadow: 0px 1px 2px rgba(60, 64, 67, 0.3), 0px 1px 3px 1px rgba(60, 64, 67, 0.15);\n",
              "      fill: #174EA6;\n",
              "    }\n",
              "\n",
              "    .colab-df-buttons div {\n",
              "      margin-bottom: 4px;\n",
              "    }\n",
              "\n",
              "    [theme=dark] .colab-df-convert {\n",
              "      background-color: #3B4455;\n",
              "      fill: #D2E3FC;\n",
              "    }\n",
              "\n",
              "    [theme=dark] .colab-df-convert:hover {\n",
              "      background-color: #434B5C;\n",
              "      box-shadow: 0px 1px 3px 1px rgba(0, 0, 0, 0.15);\n",
              "      filter: drop-shadow(0px 1px 2px rgba(0, 0, 0, 0.3));\n",
              "      fill: #FFFFFF;\n",
              "    }\n",
              "  </style>\n",
              "\n",
              "    <script>\n",
              "      const buttonEl =\n",
              "        document.querySelector('#df-72151951-eb1d-4deb-83be-0615100e2058 button.colab-df-convert');\n",
              "      buttonEl.style.display =\n",
              "        google.colab.kernel.accessAllowed ? 'block' : 'none';\n",
              "\n",
              "      async function convertToInteractive(key) {\n",
              "        const element = document.querySelector('#df-72151951-eb1d-4deb-83be-0615100e2058');\n",
              "        const dataTable =\n",
              "          await google.colab.kernel.invokeFunction('convertToInteractive',\n",
              "                                                    [key], {});\n",
              "        if (!dataTable) return;\n",
              "\n",
              "        const docLinkHtml = 'Like what you see? Visit the ' +\n",
              "          '<a target=\"_blank\" href=https://colab.research.google.com/notebooks/data_table.ipynb>data table notebook</a>'\n",
              "          + ' to learn more about interactive tables.';\n",
              "        element.innerHTML = '';\n",
              "        dataTable['output_type'] = 'display_data';\n",
              "        await google.colab.output.renderOutput(dataTable, element);\n",
              "        const docLink = document.createElement('div');\n",
              "        docLink.innerHTML = docLinkHtml;\n",
              "        element.appendChild(docLink);\n",
              "      }\n",
              "    </script>\n",
              "  </div>\n",
              "\n",
              "\n",
              "    <div id=\"df-19c518cf-56e0-47f1-b34a-999370badcd3\">\n",
              "      <button class=\"colab-df-quickchart\" onclick=\"quickchart('df-19c518cf-56e0-47f1-b34a-999370badcd3')\"\n",
              "                title=\"Suggest charts\"\n",
              "                style=\"display:none;\">\n",
              "\n",
              "<svg xmlns=\"http://www.w3.org/2000/svg\" height=\"24px\"viewBox=\"0 0 24 24\"\n",
              "     width=\"24px\">\n",
              "    <g>\n",
              "        <path d=\"M19 3H5c-1.1 0-2 .9-2 2v14c0 1.1.9 2 2 2h14c1.1 0 2-.9 2-2V5c0-1.1-.9-2-2-2zM9 17H7v-7h2v7zm4 0h-2V7h2v10zm4 0h-2v-4h2v4z\"/>\n",
              "    </g>\n",
              "</svg>\n",
              "      </button>\n",
              "\n",
              "<style>\n",
              "  .colab-df-quickchart {\n",
              "      --bg-color: #E8F0FE;\n",
              "      --fill-color: #1967D2;\n",
              "      --hover-bg-color: #E2EBFA;\n",
              "      --hover-fill-color: #174EA6;\n",
              "      --disabled-fill-color: #AAA;\n",
              "      --disabled-bg-color: #DDD;\n",
              "  }\n",
              "\n",
              "  [theme=dark] .colab-df-quickchart {\n",
              "      --bg-color: #3B4455;\n",
              "      --fill-color: #D2E3FC;\n",
              "      --hover-bg-color: #434B5C;\n",
              "      --hover-fill-color: #FFFFFF;\n",
              "      --disabled-bg-color: #3B4455;\n",
              "      --disabled-fill-color: #666;\n",
              "  }\n",
              "\n",
              "  .colab-df-quickchart {\n",
              "    background-color: var(--bg-color);\n",
              "    border: none;\n",
              "    border-radius: 50%;\n",
              "    cursor: pointer;\n",
              "    display: none;\n",
              "    fill: var(--fill-color);\n",
              "    height: 32px;\n",
              "    padding: 0;\n",
              "    width: 32px;\n",
              "  }\n",
              "\n",
              "  .colab-df-quickchart:hover {\n",
              "    background-color: var(--hover-bg-color);\n",
              "    box-shadow: 0 1px 2px rgba(60, 64, 67, 0.3), 0 1px 3px 1px rgba(60, 64, 67, 0.15);\n",
              "    fill: var(--button-hover-fill-color);\n",
              "  }\n",
              "\n",
              "  .colab-df-quickchart-complete:disabled,\n",
              "  .colab-df-quickchart-complete:disabled:hover {\n",
              "    background-color: var(--disabled-bg-color);\n",
              "    fill: var(--disabled-fill-color);\n",
              "    box-shadow: none;\n",
              "  }\n",
              "\n",
              "  .colab-df-spinner {\n",
              "    border: 2px solid var(--fill-color);\n",
              "    border-color: transparent;\n",
              "    border-bottom-color: var(--fill-color);\n",
              "    animation:\n",
              "      spin 1s steps(1) infinite;\n",
              "  }\n",
              "\n",
              "  @keyframes spin {\n",
              "    0% {\n",
              "      border-color: transparent;\n",
              "      border-bottom-color: var(--fill-color);\n",
              "      border-left-color: var(--fill-color);\n",
              "    }\n",
              "    20% {\n",
              "      border-color: transparent;\n",
              "      border-left-color: var(--fill-color);\n",
              "      border-top-color: var(--fill-color);\n",
              "    }\n",
              "    30% {\n",
              "      border-color: transparent;\n",
              "      border-left-color: var(--fill-color);\n",
              "      border-top-color: var(--fill-color);\n",
              "      border-right-color: var(--fill-color);\n",
              "    }\n",
              "    40% {\n",
              "      border-color: transparent;\n",
              "      border-right-color: var(--fill-color);\n",
              "      border-top-color: var(--fill-color);\n",
              "    }\n",
              "    60% {\n",
              "      border-color: transparent;\n",
              "      border-right-color: var(--fill-color);\n",
              "    }\n",
              "    80% {\n",
              "      border-color: transparent;\n",
              "      border-right-color: var(--fill-color);\n",
              "      border-bottom-color: var(--fill-color);\n",
              "    }\n",
              "    90% {\n",
              "      border-color: transparent;\n",
              "      border-bottom-color: var(--fill-color);\n",
              "    }\n",
              "  }\n",
              "</style>\n",
              "\n",
              "      <script>\n",
              "        async function quickchart(key) {\n",
              "          const quickchartButtonEl =\n",
              "            document.querySelector('#' + key + ' button');\n",
              "          quickchartButtonEl.disabled = true;  // To prevent multiple clicks.\n",
              "          quickchartButtonEl.classList.add('colab-df-spinner');\n",
              "          try {\n",
              "            const charts = await google.colab.kernel.invokeFunction(\n",
              "                'suggestCharts', [key], {});\n",
              "          } catch (error) {\n",
              "            console.error('Error during call to suggestCharts:', error);\n",
              "          }\n",
              "          quickchartButtonEl.classList.remove('colab-df-spinner');\n",
              "          quickchartButtonEl.classList.add('colab-df-quickchart-complete');\n",
              "        }\n",
              "        (() => {\n",
              "          let quickchartButtonEl =\n",
              "            document.querySelector('#df-19c518cf-56e0-47f1-b34a-999370badcd3 button');\n",
              "          quickchartButtonEl.style.display =\n",
              "            google.colab.kernel.accessAllowed ? 'block' : 'none';\n",
              "        })();\n",
              "      </script>\n",
              "    </div>\n",
              "\n",
              "    </div>\n",
              "  </div>\n"
            ],
            "application/vnd.google.colaboratory.intrinsic+json": {
              "type": "dataframe",
              "variable_name": "df_courses",
              "summary": "{\n  \"name\": \"df_courses\",\n  \"rows\": 3672,\n  \"fields\": [\n    {\n      \"column\": \"course_id\",\n      \"properties\": {\n        \"dtype\": \"number\",\n        \"std\": 343071,\n        \"min\": 8324,\n        \"max\": 1282064,\n        \"num_unique_values\": 3672,\n        \"samples\": [\n          26648,\n          1121580,\n          1076222\n        ],\n        \"semantic_type\": \"\",\n        \"description\": \"\"\n      }\n    },\n    {\n      \"column\": \"course_title\",\n      \"properties\": {\n        \"dtype\": \"string\",\n        \"num_unique_values\": 3663,\n        \"samples\": [\n          \"Photoshop - Automatiza\\u00e7\\u00e3o com Adobe Script\",\n          \"Forex MetaTrader 4: Master MT4 Like A Pro Forex Trader\",\n          \"* An Integrated Approach to the Fundamentals of Accounting\"\n        ],\n        \"semantic_type\": \"\",\n        \"description\": \"\"\n      }\n    },\n    {\n      \"column\": \"url\",\n      \"properties\": {\n        \"dtype\": \"string\",\n        \"num_unique_values\": 3672,\n        \"samples\": [\n          \"https://www.udemy.com/how-to-play-guitar-really-understand-music/\",\n          \"https://www.udemy.com/wordpress-website-for-beginners/\",\n          \"https://www.udemy.com/the-most-popular-techniques-in-photoshop/\"\n        ],\n        \"semantic_type\": \"\",\n        \"description\": \"\"\n      }\n    },\n    {\n      \"column\": \"is_paid\",\n      \"properties\": {\n        \"dtype\": \"boolean\",\n        \"num_unique_values\": 2,\n        \"samples\": [\n          false,\n          true\n        ],\n        \"semantic_type\": \"\",\n        \"description\": \"\"\n      }\n    },\n    {\n      \"column\": \"price\",\n      \"properties\": {\n        \"dtype\": \"number\",\n        \"std\": 61,\n        \"min\": 0,\n        \"max\": 200,\n        \"num_unique_values\": 38,\n        \"samples\": [\n          130,\n          110\n        ],\n        \"semantic_type\": \"\",\n        \"description\": \"\"\n      }\n    },\n    {\n      \"column\": \"num_subscribers\",\n      \"properties\": {\n        \"dtype\": \"number\",\n        \"std\": 9488,\n        \"min\": 0,\n        \"max\": 268923,\n        \"num_unique_values\": 2197,\n        \"samples\": [\n          136,\n          251\n        ],\n        \"semantic_type\": \"\",\n        \"description\": \"\"\n      }\n    },\n    {\n      \"column\": \"num_reviews\",\n      \"properties\": {\n        \"dtype\": \"number\",\n        \"std\": 936,\n        \"min\": 0,\n        \"max\": 27445,\n        \"num_unique_values\": 511,\n        \"samples\": [\n          265,\n          66\n        ],\n        \"semantic_type\": \"\",\n        \"description\": \"\"\n      }\n    },\n    {\n      \"column\": \"num_lectures\",\n      \"properties\": {\n        \"dtype\": \"number\",\n        \"std\": 50,\n        \"min\": 0,\n        \"max\": 779,\n        \"num_unique_values\": 229,\n        \"samples\": [\n          342,\n          34\n        ],\n        \"semantic_type\": \"\",\n        \"description\": \"\"\n      }\n    },\n    {\n      \"column\": \"level\",\n      \"properties\": {\n        \"dtype\": \"category\",\n        \"num_unique_values\": 4,\n        \"samples\": [\n          \"Intermediate Level\",\n          \"Expert Level\"\n        ],\n        \"semantic_type\": \"\",\n        \"description\": \"\"\n      }\n    },\n    {\n      \"column\": \"content_duration\",\n      \"properties\": {\n        \"dtype\": \"number\",\n        \"std\": 6.0578298079747,\n        \"min\": 0.0,\n        \"max\": 78.5,\n        \"num_unique_values\": 105,\n        \"samples\": [\n          46.5,\n          70.0\n        ],\n        \"semantic_type\": \"\",\n        \"description\": \"\"\n      }\n    },\n    {\n      \"column\": \"published_timestamp\",\n      \"properties\": {\n        \"dtype\": \"object\",\n        \"num_unique_values\": 3672,\n        \"samples\": [\n          \"2012-10-13T23:40:19Z\",\n          \"2017-02-26T18:29:53Z\"\n        ],\n        \"semantic_type\": \"\",\n        \"description\": \"\"\n      }\n    },\n    {\n      \"column\": \"subject\",\n      \"properties\": {\n        \"dtype\": \"category\",\n        \"num_unique_values\": 4,\n        \"samples\": [\n          \"Graphic Design\",\n          \"Web Development\"\n        ],\n        \"semantic_type\": \"\",\n        \"description\": \"\"\n      }\n    },\n    {\n      \"column\": \"total_interactions\",\n      \"properties\": {\n        \"dtype\": \"number\",\n        \"std\": 11,\n        \"min\": 10,\n        \"max\": 50,\n        \"num_unique_values\": 41,\n        \"samples\": [\n          48,\n          36\n        ],\n        \"semantic_type\": \"\",\n        \"description\": \"\"\n      }\n    },\n    {\n      \"column\": \"total_users\",\n      \"properties\": {\n        \"dtype\": \"number\",\n        \"std\": 11,\n        \"min\": 9,\n        \"max\": 50,\n        \"num_unique_values\": 42,\n        \"samples\": [\n          42,\n          35\n        ],\n        \"semantic_type\": \"\",\n        \"description\": \"\"\n      }\n    }\n  ]\n}"
            }
          },
          "metadata": {},
          "execution_count": 68
        }
      ],
      "source": [
        "df_courses.head(2)"
      ]
    },
    {
      "cell_type": "markdown",
      "source": [
        "# **3. Processing Data**"
      ],
      "metadata": {
        "id": "4RpCXqIOE0ZY"
      }
    },
    {
      "cell_type": "code",
      "source": [
        "# 🔢 Normalisasi Fitur Numerik\n",
        "numerical_features = ['price', 'num_subscribers', 'num_reviews', 'num_lectures', 'content_duration']\n",
        "scaler = MinMaxScaler()\n",
        "df_courses[numerical_features] = scaler.fit_transform(df_courses[numerical_features])\n",
        "\n",
        "# 📊 Vocabulary unik untuk fitur kategorikal\n",
        "subject_vocab = df_courses['subject'].unique().tolist()\n",
        "level_vocab = df_courses['level'].unique().tolist()"
      ],
      "metadata": {
        "id": "ECSARybGYE1H"
      },
      "execution_count": 69,
      "outputs": []
    },
    {
      "cell_type": "markdown",
      "source": [
        "## **3.1 Splitting Data (Train & Test)**"
      ],
      "metadata": {
        "id": "g4SepVegQ8Dy"
      }
    },
    {
      "cell_type": "code",
      "source": [
        "# Split data df_courses menjadi train & test (misal 90:10)\n",
        "df_train_courses, df_test_courses = train_test_split(\n",
        "    df_courses, test_size=0.1, random_state=42, shuffle=True\n",
        ")\n",
        "\n",
        "print(f\"Jumlah course train: {len(df_train_courses)}\")\n",
        "print(f\"Jumlah course test : {len(df_test_courses)}\")\n",
        "\n",
        "# Function untuk Membuat dataset TensorFlow train & test\n",
        "def make_tf_dataset(df, shuffle=True, batch_size=64):\n",
        "    ds = tf.data.Dataset.from_tensor_slices({\n",
        "        \"course_id\": df[\"course_id\"].astype(str).values,\n",
        "        \"course_title\": df[\"course_title\"].astype(str).values.reshape(-1),\n",
        "        \"subject\": df[\"subject\"].astype(str).values,\n",
        "        \"level\": df[\"level\"].astype(str).values,\n",
        "        \"price\": df[\"price\"].values,\n",
        "        \"num_subscribers\": df[\"num_subscribers\"].values,\n",
        "        \"num_reviews\": df[\"num_reviews\"].values,\n",
        "        \"num_lectures\": df[\"num_lectures\"].values,\n",
        "        \"content_duration\": df[\"content_duration\"].values,\n",
        "    })\n",
        "    if shuffle:\n",
        "        ds = ds.shuffle(1000)\n",
        "    ds = ds.batch(batch_size).cache().prefetch(tf.data.AUTOTUNE)\n",
        "    return ds\n",
        "\n",
        "# Contoh batch_size default untuk training nanti (bisa diubah oleh tuner)\n",
        "default_batch_size = 64\n",
        "\n",
        "tf_train_courses = make_tf_dataset(df_train_courses, batch_size=default_batch_size)\n",
        "tf_test_courses = make_tf_dataset(df_test_courses, shuffle=False, batch_size=default_batch_size)\n",
        "\n",
        "# Dataset kandidat untuk index embedding, dari seluruh courses\n",
        "tf_all_courses = make_tf_dataset(df_courses, batch_size=64, shuffle=False)"
      ],
      "metadata": {
        "colab": {
          "base_uri": "https://localhost:8080/"
        },
        "id": "t30tHKdmWwIz",
        "outputId": "3700298c-9c4a-4f3c-d2c5-4d13bde053b0"
      },
      "execution_count": 70,
      "outputs": [
        {
          "output_type": "stream",
          "name": "stdout",
          "text": [
            "Jumlah course train: 3304\n",
            "Jumlah course test : 368\n"
          ]
        }
      ]
    },
    {
      "cell_type": "markdown",
      "metadata": {
        "id": "ofVDP_5iTohD"
      },
      "source": [
        "# **3. Recommenders Modeling - [Content Based Filtering]**"
      ]
    },
    {
      "cell_type": "markdown",
      "source": [
        "## **3.1 Model embedding fitur course**"
      ],
      "metadata": {
        "id": "wQxX2ShX_SkA"
      }
    },
    {
      "cell_type": "code",
      "source": [
        "class CourseModel(tf.keras.Model):\n",
        "    def __init__(self, embedding_dim, subject_vocab, level_vocab, course_ids, vectorizer_path=None):\n",
        "        super().__init__()\n",
        "\n",
        "        # 🔍 Embedding untuk course_id (mengubah ID jadi vektor numerik)\n",
        "        self.course_embedding = tf.keras.Sequential([\n",
        "            tf.keras.layers.StringLookup(vocabulary=course_ids, mask_token=None),\n",
        "            tf.keras.layers.Embedding(len(course_ids) + 1, embedding_dim)\n",
        "        ])\n",
        "\n",
        "        # 🎓 Embedding untuk subject course (kategori mata pelajaran)\n",
        "        self.subject_embedding = tf.keras.Sequential([\n",
        "            tf.keras.layers.StringLookup(vocabulary=subject_vocab, mask_token=None),\n",
        "            tf.keras.layers.Embedding(len(subject_vocab) + 1, max(4, embedding_dim // 4))\n",
        "        ])\n",
        "\n",
        "        # 🏷️ Embedding untuk level course (pemula, menengah, dsb)\n",
        "        self.level_embedding = tf.keras.Sequential([\n",
        "            tf.keras.layers.StringLookup(vocabulary=level_vocab, mask_token=None),\n",
        "            tf.keras.layers.Embedding(len(level_vocab) + 1, max(2, embedding_dim // 8))\n",
        "        ])\n",
        "\n",
        "        # ⬇️ Perbedaan penting ada di sini\n",
        "        if vectorizer_path:\n",
        "            # Inference mode: load saved vectorizer\n",
        "            self.title_vectorizer = tf.keras.models.load_model(vectorizer_path, compile=False)\n",
        "        else:\n",
        "            # Training mode: adapt vectorizer\n",
        "            # ✍️ Vektorisasi teks judul course dengan TF-IDF dan dense layer\n",
        "            self.title_vectorizer = tf.keras.layers.TextVectorization(max_tokens=1000, output_mode='tf-idf')\n",
        "            self.title_vectorizer.adapt(df_courses[\"course_title\"].astype(str).tolist())\n",
        "\n",
        "\n",
        "        self.title_embedding = tf.keras.Sequential([\n",
        "            self.title_vectorizer,\n",
        "            tf.keras.layers.Dense(embedding_dim, activation=\"relu\"),\n",
        "        ])\n",
        "\n",
        "        # 📊 Dense layer untuk fitur numerik seperti harga, jumlah subscriber, dll\n",
        "        self.numerical_dense = tf.keras.Sequential([\n",
        "            tf.keras.layers.Dense(embedding_dim // 4, activation=\"relu\"),\n",
        "            tf.keras.layers.Dense(embedding_dim // 8, activation=\"relu\"),\n",
        "        ])\n",
        "\n",
        "        # 🔗 Gabungkan semua embedding lalu proses dengan dense layers\n",
        "        self.final_dense1 = tf.keras.layers.Dense(embedding_dim * 2, activation=\"relu\")\n",
        "        self.final_dense2 = tf.keras.layers.Dense(embedding_dim)\n",
        "\n",
        "    def call(self, inputs):\n",
        "        title = inputs[\"course_title\"]\n",
        "\n",
        "        # Gabungkan fitur numerik dalam satu tensor\n",
        "        numerical = tf.stack([\n",
        "            inputs[\"price\"],\n",
        "            inputs[\"num_subscribers\"],\n",
        "            inputs[\"num_reviews\"],\n",
        "            inputs[\"num_lectures\"],\n",
        "            inputs[\"content_duration\"],\n",
        "        ], axis=1)\n",
        "\n",
        "        # Dapatkan embedding masing-masing fitur\n",
        "        course_emb = self.course_embedding(inputs[\"course_id\"])\n",
        "        subject_emb = self.subject_embedding(inputs[\"subject\"])\n",
        "        level_emb = self.level_embedding(inputs[\"level\"])\n",
        "        title_emb = self.title_embedding(title)\n",
        "        numerical_emb = self.numerical_dense(numerical)\n",
        "\n",
        "        # 🧠 Beri bobot pada masing-masing fitur\n",
        "        # ⚖️ Atur bobot relatif sesuai urutan kepentingan\n",
        "        weighted_title = title_emb * 3.0        # Paling penting\n",
        "        weighted_subject = subject_emb * 2.0    # Penting\n",
        "        weighted_level = level_emb * 1.5        # Cukup penting\n",
        "        weighted_numerical = numerical_emb * 0.5  # Tidak dominan\n",
        "        weighted_course = course_emb * 0.3      # Paling kecil\n",
        "\n",
        "\n",
        "        # ⚡ Concatenate semua embedding jadi satu vector feature\n",
        "        concat = tf.concat([\n",
        "            weighted_course,\n",
        "            weighted_subject,\n",
        "            weighted_level,\n",
        "            weighted_title,\n",
        "            weighted_numerical\n",
        "        ], axis=1)\n",
        "\n",
        "        # # 💡 Cek isi dan shape hasil concatenation\n",
        "        # tf.print(\"\\n🧪 Shape concat:\", tf.shape(concat))\n",
        "        # tf.print(\"🧪 Contoh concat[0]:\", concat[0])\n",
        "\n",
        "        x = self.final_dense1(concat)\n",
        "        return self.final_dense2(x)  # Output embedding final untuk course"
      ],
      "metadata": {
        "id": "bcnFEYGQYfDu"
      },
      "execution_count": 71,
      "outputs": []
    },
    {
      "cell_type": "markdown",
      "source": [
        "## **3.2 Model Retrieval untuk Membangun Sistem Rekomendasi Berbasis Embedding**"
      ],
      "metadata": {
        "id": "9gJZx8nV_uo-"
      }
    },
    {
      "cell_type": "code",
      "source": [
        "class CourseRetrievalModel(tfrs.Model):\n",
        "    def __init__(self, embedding_dim, subject_vocab, level_vocab, course_ids, candidate_dataset):\n",
        "        super().__init__()\n",
        "        # Model embedding course yang digunakan sebagai query dan kandidat\n",
        "        self.course_model = CourseModel(embedding_dim, subject_vocab, level_vocab, course_ids)\n",
        "        # Task retrieval dengan metric FactorizedTopK untuk efisiensi pencarian\n",
        "        self.task = tfrs.tasks.Retrieval(metrics=tfrs.metrics.FactorizedTopK(\n",
        "            candidates=candidate_dataset.map(lambda x: self.course_model(x))  # Indeks kandidat embedding\n",
        "        ))\n",
        "\n",
        "    def compute_loss(self, features, training=False):\n",
        "        # Hitung loss berdasarkan embedding query dan kandidat\n",
        "        return self.task(\n",
        "            query_embeddings=self.course_model(features),\n",
        "            candidate_embeddings=self.course_model(features)\n",
        "        )"
      ],
      "metadata": {
        "id": "IvQ2fanbZYhN"
      },
      "execution_count": 72,
      "outputs": []
    },
    {
      "cell_type": "markdown",
      "source": [
        "## **3.3 Build Model untuk Hyperparameter Tuning**"
      ],
      "metadata": {
        "id": "yUu4gpS_AH01"
      }
    },
    {
      "cell_type": "code",
      "source": [
        "# 🔧 Fungsi Build Model untuk Hyperparameter Tuning dengan Keras Tuner\n",
        "def build_model(hp):\n",
        "    # Pilihan dimensi embedding yang akan diuji (16, 32, 48, 64)\n",
        "    embedding_dim = hp.Int('embedding_dim', 16, 64, step=16)\n",
        "\n",
        "    # Pilihan optimizer: Adam atau Adagrad\n",
        "    optimizer_choice = hp.Choice('optimizer', ['adam', 'adagrad'])\n",
        "\n",
        "    # Pilihan learning rate dalam rentang logaritmik\n",
        "    learning_rate = hp.Float('learning_rate', 1e-4, 1e-1, sampling='log')\n",
        "\n",
        "    # Pilihan batch size yang akan diuji\n",
        "    batch_size = hp.Choice('batch_size', [32, 64, 128])\n",
        "\n",
        "    # Membuat model dengan hyperparameter yang dipilih tuner\n",
        "    model = CourseRetrievalModel(\n",
        "        embedding_dim=embedding_dim,\n",
        "        subject_vocab=subject_vocab,\n",
        "        level_vocab=level_vocab,\n",
        "        course_ids=df_courses[\"course_id\"].astype(str).tolist(),\n",
        "        candidate_dataset=tf_all_courses\n",
        "    )\n",
        "\n",
        "    # Pilih optimizer dengan learning rate yang disesuaikan\n",
        "    if optimizer_choice == 'adam':\n",
        "        optimizer = tf.keras.optimizers.Adam(learning_rate=learning_rate)\n",
        "    else:\n",
        "        optimizer = tf.keras.optimizers.Adagrad(learning_rate=learning_rate)\n",
        "\n",
        "    # Compile model dengan optimizer tersebut\n",
        "    model.compile(optimizer=optimizer)\n",
        "\n",
        "    # Simpan batch_size di atribut model untuk penggunaan nanti\n",
        "    model.batch_size = batch_size\n",
        "    return model"
      ],
      "metadata": {
        "id": "ikWm0KKcY6fU"
      },
      "execution_count": 73,
      "outputs": []
    },
    {
      "cell_type": "markdown",
      "source": [
        "## **3.4 Setup Callbacks untuk Optimasi & Monitoring Training**"
      ],
      "metadata": {
        "id": "8lmPHcvuAckT"
      }
    },
    {
      "cell_type": "code",
      "source": [
        "checkpoint_dir = os.path.join(mainPath, 'Model/2. Content-Based Filtering/')\n",
        "os.makedirs(checkpoint_dir, exist_ok=True)\n",
        "\n",
        "# Callback standar untuk monitoring selama tuning\n",
        "early_stop = tf.keras.callbacks.EarlyStopping(\n",
        "    monitor='loss',  # 🚦 Pantau loss untuk hentikan training lebih awal jika stagnan\n",
        "    patience=3,\n",
        "    restore_best_weights=True  # 🔄 Kembalikan ke bobot terbaik saat selesai\n",
        ")\n",
        "\n",
        "lr_reducer = tf.keras.callbacks.ReduceLROnPlateau(\n",
        "    monitor='loss',  # 📉 Turunkan learning rate jika loss tidak berkurang\n",
        "    factor=0.5,\n",
        "    patience=2,\n",
        "    verbose=1\n",
        ")\n",
        "\n",
        "checkpoint = tf.keras.callbacks.ModelCheckpoint(\n",
        "    filepath=os.path.join(checkpoint_dir, 'best_weights_only'), # 💾 Simpan model terbaik di path ini\n",
        "    monitor='loss',\n",
        "    save_best_only=True,\n",
        "    save_weights_only=True,  # ⬅️ ini kunci\n",
        "    verbose=1\n",
        ")"
      ],
      "metadata": {
        "id": "JmMRFrwUZb5o"
      },
      "execution_count": 74,
      "outputs": []
    },
    {
      "cell_type": "markdown",
      "source": [
        "## **3.5 Custom and Inisialisasi Tuner untuk Hyperband**"
      ],
      "metadata": {
        "id": "ki2lPb15AiBl"
      }
    },
    {
      "cell_type": "code",
      "source": [
        "# Custom Tuner Class untuk Hyperband dengan Batch Size Dinamis\n",
        "class MyTuner(kt.Hyperband):\n",
        "    def run_trial(self, trial, *args, **kwargs):\n",
        "        batch_size = trial.hyperparameters.get('batch_size')  # 🎯 Ambil batch size dari hyperparameter\n",
        "        train_ds = tf_train_courses.unbatch().batch(batch_size).shuffle(1000).cache()  # 🔄 Siapkan dataset dengan batch size dinamis\n",
        "        kwargs['x'] = train_ds  # 🎛️ Override input dataset untuk fit()\n",
        "        kwargs['epochs'] = 15   # ⏳ Set epoch tetap untuk tiap trial\n",
        "        return super().run_trial(trial, *args, **kwargs)\n",
        "\n",
        "# Inisialisasi Tuner dengan MyTuner Custom untuk Grid Search & Tuning Model\n",
        "tuner = MyTuner(\n",
        "    build_model,\n",
        "    objective=kt.Objective('loss', direction='min'),  # 🔍 Minimalkan loss sebagai tujuan tuning\n",
        "    max_epochs=15,\n",
        "    factor=3,\n",
        "    directory=checkpoint_dir + 'keras_tuner_dir_grid_search/',  # 📂 Direktori simpan hasil tuning\n",
        "    project_name='content_based_filtering_tuning'  # 🏷️ Nama project tuning\n",
        ")"
      ],
      "metadata": {
        "id": "mNInGgGHQVed"
      },
      "execution_count": 75,
      "outputs": []
    },
    {
      "cell_type": "markdown",
      "source": [
        "## **3.6 Eksekusi Proses Tuning dengan Monitoring Waktu & Callbacks**"
      ],
      "metadata": {
        "id": "fPLgwJnUBTIo"
      }
    },
    {
      "cell_type": "code",
      "source": [
        "start_time = time.time()  # 🏁 Mulai hitung waktu training\n",
        "\n",
        "# ⚠️ Jangan sertakan data training di sini, sudah di-handle di MyTuner.run_trial()\n",
        "tuner.search(\n",
        "    epochs=15,  # 🔄 Maksimal epoch tiap trial\n",
        "    callbacks=[early_stop, lr_reducer, checkpoint]  # 🎛️ Callback penting selama tuning\n",
        ")\n",
        "\n",
        "end_time = time.time()  # 🏁 Akhiri hitung waktu\n",
        "elapsed_time = end_time - start_time\n",
        "\n",
        "# ⏳ Tampilkan durasi training dengan format friendly\n",
        "minutes, seconds = divmod(elapsed_time, 60)\n",
        "print(\"\\n✅ Pencarian hyperparameter dengan Bayesian Optimization selesai.\")\n",
        "print(f\"\\n⏱️ Training selesai dalam {int(minutes)} menit {int(seconds)} detik.\")"
      ],
      "metadata": {
        "colab": {
          "base_uri": "https://localhost:8080/"
        },
        "id": "dF521pAaBLzM",
        "outputId": "c86cb963-4a4d-44bc-da25-c4ecf77fc1fb"
      },
      "execution_count": 76,
      "outputs": [
        {
          "output_type": "stream",
          "name": "stdout",
          "text": [
            "Trial 30 Complete [00h 02m 16s]\n",
            "loss: 1.6100574731826782\n",
            "\n",
            "Best loss So Far: 0.004989500157535076\n",
            "Total elapsed time: 00h 45m 12s\n",
            "\n",
            "✅ Pencarian hyperparameter dengan Bayesian Optimization selesai.\n",
            "\n",
            "⏱️ Training selesai dalam 45 menit 11 detik.\n"
          ]
        }
      ]
    },
    {
      "cell_type": "markdown",
      "source": [
        "Trial 30 Complete [00h 01m 59s]\n",
        "loss: 102.03591918945312\n",
        "\n",
        "Best loss So Far: 0.0\n",
        "Total elapsed time: 00h 50m 32s\n",
        "\n",
        "✅ Pencarian hyperparameter dengan Bayesian Optimization selesai.\n",
        "\n",
        "⏱️ Training selesai dalam 50 menit 32 detik."
      ],
      "metadata": {
        "id": "cvXFJboUmXnD"
      }
    },
    {
      "cell_type": "markdown",
      "source": [
        "## **3.7 Model Terbaik dari Hasil Tuning**"
      ],
      "metadata": {
        "id": "d1mZWH9LBdp5"
      }
    },
    {
      "cell_type": "code",
      "source": [
        "best_hps = tuner.get_best_hyperparameters(num_trials=1)[0]  # 🔍 Ambil hyperparameter terbaik\n",
        "print(f\"\\n✨ Hyperparameter terbaik ditemukan:\")\n",
        "print(f\"  - Embedding Dimension: {best_hps.get('embedding_dim')}\")\n",
        "print(f\"  - Learning Rate: {best_hps.get('learning_rate')}\")\n",
        "print(f\"  - Optimizer: {best_hps.get('optimizer')}\")\n",
        "\n",
        "best_model = tuner.get_best_models(num_models=1)[0]  # 🏆 Muat model terbaik hasil tuning\n",
        "print(\"\\n🚀 Model terbaik berhasil dimuat.\")"
      ],
      "metadata": {
        "colab": {
          "base_uri": "https://localhost:8080/"
        },
        "id": "2hT9goA-E-VB",
        "outputId": "be191cee-d9af-49f7-b3ed-0fc5200a7e75"
      },
      "execution_count": 77,
      "outputs": [
        {
          "output_type": "stream",
          "name": "stdout",
          "text": [
            "\n",
            "✨ Hyperparameter terbaik ditemukan:\n",
            "  - Embedding Dimension: 32\n",
            "  - Learning Rate: 0.0018242372863580714\n",
            "  - Optimizer: adam\n",
            "\n",
            "🚀 Model terbaik berhasil dimuat.\n"
          ]
        }
      ]
    },
    {
      "cell_type": "markdown",
      "source": [
        "✨ Hyperparameter terbaik ditemukan:\n",
        "  - Embedding Dimension: 48\n",
        "  - Learning Rate: 0.005728265752083152\n",
        "  - Optimizer: adam\n",
        "\n",
        "🚀 Model terbaik berhasil dimuat."
      ],
      "metadata": {
        "id": "NVUgy9CydJAC"
      }
    },
    {
      "cell_type": "markdown",
      "source": [
        "## **3.8 Model Evaluation**"
      ],
      "metadata": {
        "id": "ugiQTvezELSs"
      }
    },
    {
      "cell_type": "code",
      "source": [
        "def lookup_course(course_id_str):\n",
        "    \"\"\"🔍 Ambil fitur lengkap course berdasarkan course_id sebagai dictionary TensorFlow\"\"\"\n",
        "    row = df_courses[df_courses[\"course_id\"].astype(str) == course_id_str].iloc[0]  # 📄 Cari baris sesuai ID\n",
        "    return {\n",
        "        \"course_id\": tf.constant([str(row[\"course_id\"])]),  # 🆔 ID course\n",
        "        \"course_title\": tf.constant([str(row[\"course_title\"])]),  # 📚 Judul course\n",
        "        \"subject\": tf.constant([str(row[\"subject\"])]),  # 🏷️ Kategori subject\n",
        "        \"level\": tf.constant([str(row[\"level\"])]),  # 🎯 Level course\n",
        "        \"price\": tf.constant([row[\"price\"]], dtype=tf.float32),  # 💰 Harga (normalisasi)\n",
        "        \"num_subscribers\": tf.constant([row[\"num_subscribers\"]], dtype=tf.float32),  # 👥 Jumlah subscriber\n",
        "        \"num_reviews\": tf.constant([row[\"num_reviews\"]], dtype=tf.float32),  # ⭐ Review count\n",
        "        \"num_lectures\": tf.constant([row[\"num_lectures\"]], dtype=tf.float32),  # 📖 Jumlah lecture\n",
        "        \"content_duration\": tf.constant([row[\"content_duration\"]], dtype=tf.float32),  # ⏳ Durasi konten\n",
        "    }"
      ],
      "metadata": {
        "id": "k-ApV209LMkG"
      },
      "execution_count": 78,
      "outputs": []
    },
    {
      "cell_type": "markdown",
      "source": [
        "### **3.8.1 Evaluate in Test Dataset**"
      ],
      "metadata": {
        "id": "-mXkjtQCN7Hz"
      }
    },
    {
      "cell_type": "code",
      "source": [
        "# Evaluasi model di test set\n",
        "results = best_model.evaluate(tf_test_courses, return_dict=True)\n",
        "\n",
        "print(\"\\n📈 Evaluation Metrics (Test Data):\")\n",
        "for metric_name, value in results.items():\n",
        "    print(f\"{metric_name}: {value:.4f}\")"
      ],
      "metadata": {
        "id": "Y_EQ18x0ZwFG",
        "colab": {
          "base_uri": "https://localhost:8080/"
        },
        "outputId": "d6094a5b-b740-48fe-f4af-0275be7e34db"
      },
      "execution_count": 79,
      "outputs": [
        {
          "output_type": "stream",
          "name": "stdout",
          "text": [
            "6/6 [==============================] - 2s 221ms/step - factorized_top_k/top_1_categorical_accuracy: 0.3723 - factorized_top_k/top_5_categorical_accuracy: 0.8342 - factorized_top_k/top_10_categorical_accuracy: 0.9049 - factorized_top_k/top_50_categorical_accuracy: 0.9918 - factorized_top_k/top_100_categorical_accuracy: 1.0000 - loss: 12.4985 - regularization_loss: 0.0000e+00 - total_loss: 12.4985\n",
            "\n",
            "📈 Evaluation Metrics (Test Data):\n",
            "factorized_top_k/top_1_categorical_accuracy: 0.3723\n",
            "factorized_top_k/top_5_categorical_accuracy: 0.8342\n",
            "factorized_top_k/top_10_categorical_accuracy: 0.9049\n",
            "factorized_top_k/top_50_categorical_accuracy: 0.9918\n",
            "factorized_top_k/top_100_categorical_accuracy: 1.0000\n",
            "loss: 12.0395\n",
            "regularization_loss: 0.0000\n",
            "total_loss: 12.0395\n"
          ]
        }
      ]
    },
    {
      "cell_type": "markdown",
      "source": [
        "### **3.8.2 Metric NDCG@10 Recall@10**"
      ],
      "metadata": {
        "id": "GPQXTH8rMCw4"
      }
    },
    {
      "cell_type": "code",
      "source": [
        "# === Ambil embeddings kandidat batch per batch ===\n",
        "candidate_embeddings = []\n",
        "for batch in tf_all_courses:\n",
        "    emb = best_model.course_model(batch)\n",
        "    candidate_embeddings.append(emb)\n",
        "candidate_embeddings = tf.concat(candidate_embeddings, axis=0)\n",
        "candidate_ids = np.array(df_courses[\"course_id\"].astype(str).tolist())\n",
        "\n",
        "# === Build index for retrieval ===\n",
        "index = tfrs.layers.factorized_top_k.BruteForce(best_model.course_model)\n",
        "index.index_from_dataset(\n",
        "    tf_all_courses.map(lambda x: (x[\"course_id\"], best_model.course_model(x)))\n",
        ")\n",
        "\n",
        "# === Define top-k ===\n",
        "TOP_K = 20\n",
        "\n",
        "# === Run inference on test queries ===\n",
        "all_recall = []\n",
        "all_ndcg = []\n",
        "\n",
        "for batch in tf_test_courses:\n",
        "    # Get ground truth course IDs in this batch\n",
        "    true_ids = batch[\"course_id\"].numpy().astype(str)\n",
        "\n",
        "    # Query recommendations from index\n",
        "    scores, recommended_ids = index(batch, k=TOP_K)\n",
        "\n",
        "    for i in range(len(true_ids)):\n",
        "        true_id = true_ids[i]\n",
        "        recs = recommended_ids[i].numpy().astype(str)\n",
        "\n",
        "        # Create relevance vector: 1 if recommended course == true course else 0\n",
        "        relevance = [1 if rec == true_id else 0 for rec in recs]\n",
        "\n",
        "        # Recall@k is 1 if true_id in top-k recs, else 0\n",
        "        recall = int(true_id in recs)\n",
        "        all_recall.append(recall)\n",
        "\n",
        "        # NDCG@k requires 2D arrays\n",
        "        ndcg = ndcg_score([relevance], [relevance])\n",
        "        all_ndcg.append(ndcg)\n",
        "\n",
        "# === Aggregate metrics ===\n",
        "avg_recall = np.mean(all_recall)\n",
        "avg_ndcg = np.mean(all_ndcg)"
      ],
      "metadata": {
        "id": "8ADJS_jMERwB"
      },
      "execution_count": 80,
      "outputs": []
    },
    {
      "cell_type": "code",
      "source": [
        "print(f\"📊 Evaluation Results on Test Set:\")\n",
        "print(f\" - Recall@{TOP_K}: {avg_recall:.4f}\")\n",
        "print(f\" - NDCG@{TOP_K}: {avg_ndcg:.4f}\")"
      ],
      "metadata": {
        "colab": {
          "base_uri": "https://localhost:8080/"
        },
        "id": "LzJl_8DkEeby",
        "outputId": "5ac0b29e-dcd0-4a0e-bd2a-88439ccdcab6"
      },
      "execution_count": 81,
      "outputs": [
        {
          "output_type": "stream",
          "name": "stdout",
          "text": [
            "📊 Evaluation Results on Test Set:\n",
            " - Recall@20: 0.9592\n",
            " - NDCG@20: 0.9592\n"
          ]
        }
      ]
    },
    {
      "cell_type": "markdown",
      "source": [
        "### **3.8.3 Quick Manual Evaluation: Recommendation vs Ground Truth**"
      ],
      "metadata": {
        "id": "Yzb_bnxMORKv"
      }
    },
    {
      "cell_type": "code",
      "source": [
        "# Fungsi untuk dapat rekomendasi top-k course dari suatu course_id\n",
        "def recommend_courses(course_id, index, k=10):\n",
        "    query = lookup_course(course_id)\n",
        "    scores, ids = index(query, k=k)\n",
        "    recommended_ids = [id.decode('utf-8') for id in ids[0].numpy()]\n",
        "    return recommended_ids, scores[0].numpy()\n",
        "\n",
        "# Contoh course_id untuk query\n",
        "query_course_id = df_courses[\"course_id\"].astype(str).iloc[0]"
      ],
      "metadata": {
        "id": "H72pGUtJNYym"
      },
      "execution_count": 82,
      "outputs": []
    },
    {
      "cell_type": "code",
      "source": [
        "def recommend_courses(course_id, index, k=10):\n",
        "    # 🎯 Ambil rekomendasi top-k berdasarkan course_id\n",
        "    query = lookup_course(course_id)\n",
        "    scores, ids = index(query, k=k)\n",
        "    recommended_ids = [id.decode('utf-8') for id in ids[0].numpy()]\n",
        "    return recommended_ids, scores[0].numpy()\n",
        "\n",
        "query_course_id = df_courses[\"course_id\"].astype(str).iloc[0]  # 🔎 Course ID untuk uji coba\n",
        "info = lookup_course(query_course_id)  # ℹ️ Ambil info course\n",
        "\n",
        "print(f\"ℹ️ Info Course ID {query_course_id}:\")\n",
        "for key, val in info.items():\n",
        "    print(f\" - {key}: {val}\")\n",
        "\n",
        "recommended_ids, scores = recommend_courses(query_course_id, index, k=10)  # 🚀 Dapatkan rekomendasi\n",
        "print(f\"\\n🎯 Rekomendasi untuk Course ID {query_course_id}:\")\n",
        "for cid, score in zip(recommended_ids, scores):\n",
        "    title = df_courses.loc[df_courses[\"course_id\"].astype(str) == cid, 'course_title'].values[0]\n",
        "    print(f\" - {cid}: {title} | Skor: {score:.4f}\")\n",
        "\n",
        "query_subject = df_courses.loc[df_courses[\"course_id\"].astype(str) == query_course_id, \"subject\"].values[0]  # 📚 Subject course query\n",
        "ground_truth_ids = set(df_courses.loc[df_courses[\"subject\"] == query_subject, \"course_id\"].astype(str).tolist())  # ✅ Ground truth (subject sama)\n",
        "\n",
        "found_ids = set(recommended_ids).intersection(ground_truth_ids)  # 🔍 Rekomendasi yang ada di ground truth\n",
        "percent_found = len(found_ids) / len(recommended_ids) * 100  # 📊 Persentase kecocokan\n",
        "\n",
        "if percent_found == 100:\n",
        "    print(f\"\\n✅ Semua rekomendasi ada di ground truth ({len(found_ids)}/{len(recommended_ids)}).\")\n",
        "else:\n",
        "    missing = set(recommended_ids) - ground_truth_ids  # ❌ Rekomendasi yang tidak ada di ground truth\n",
        "    print(f\"\\n⚠️ {len(found_ids)}/{len(recommended_ids)} rekomendasi ada di ground truth ({percent_found:.2f}%).\")\n",
        "    print(\"Course ID yang tidak ada di ground truth:\")\n",
        "    for cid in missing:\n",
        "        print(f\" - {cid}\")"
      ],
      "metadata": {
        "colab": {
          "base_uri": "https://localhost:8080/"
        },
        "id": "TOTQFcI7Og74",
        "outputId": "c3b6fc82-8993-4b71-8329-52d60c39401b"
      },
      "execution_count": 83,
      "outputs": [
        {
          "output_type": "stream",
          "name": "stdout",
          "text": [
            "ℹ️ Info Course ID 1070968:\n",
            " - course_id: [b'1070968']\n",
            " - course_title: [b'Ultimate Investment Banking Course']\n",
            " - subject: [b'Business Finance']\n",
            " - level: [b'All Levels']\n",
            " - price: [1.]\n",
            " - num_subscribers: [0.0079837]\n",
            " - num_reviews: [0.00083804]\n",
            " - num_lectures: [0.06546855]\n",
            " - content_duration: [0.01910828]\n",
            "\n",
            "🎯 Rekomendasi untuk Course ID 1070968:\n",
            " - 1070968: Ultimate Investment Banking Course | Skor: 35.1236\n",
            " - 874012: The Ultimate Drawing Course - Beginner to Advanced | Skor: 34.3596\n",
            " - 147754: Guitar Technique Mastery: The Ultimate Chop Building Workout | Skor: 32.3682\n",
            " - 895096: Ultimate JavaScript Objects | Skor: 30.9646\n",
            " - 614668: 8 Steps To Achieve Financial Freedom And Escape Debt | Skor: 29.5964\n",
            " - 473474: Mastering Realistic Real Life Drawing with Pencil | Skor: 29.4334\n",
            " - 994754: The Power Modeling Bootcamp: Advanced Excel in 10 Days | Skor: 28.2643\n",
            " - 1136912: Financial Accounting - The Ultimate Beginner Course | Skor: 28.1177\n",
            " - 298558: Advanced Accounting for Investment Banking | Skor: 27.6118\n",
            " - 1189288: Drupal Tutorial : Drupal 8 Beginner to Expert in 8 PROJECTS | Skor: 27.0409\n",
            "\n",
            "⚠️ 5/10 rekomendasi ada di ground truth (50.00%).\n",
            "Course ID yang tidak ada di ground truth:\n",
            " - 147754\n",
            " - 895096\n",
            " - 1189288\n",
            " - 473474\n",
            " - 874012\n"
          ]
        }
      ]
    },
    {
      "cell_type": "markdown",
      "source": [
        "## **3.9 Save Model, Index, dan Data Pendukung**"
      ],
      "metadata": {
        "id": "tDBBoxjHO34b"
      }
    },
    {
      "cell_type": "markdown",
      "source": [
        "### **3.9.1 Simpan Model Terbaik ke Disk**"
      ],
      "metadata": {
        "id": "6PXExXzxPyEJ"
      }
    },
    {
      "cell_type": "code",
      "source": [
        "checkpoint_dir"
      ],
      "metadata": {
        "colab": {
          "base_uri": "https://localhost:8080/",
          "height": 36
        },
        "id": "DmS5GAL7QuyY",
        "outputId": "6e9946c8-c4c0-4c60-f698-5fbe1c17fe57"
      },
      "execution_count": 84,
      "outputs": [
        {
          "output_type": "execute_result",
          "data": {
            "text/plain": [
              "'/content/drive/MyDrive/Colab Notebooks/Capstone - Course Recommender Systems/Model/2. Content-Based Filtering/'"
            ],
            "application/vnd.google.colaboratory.intrinsic+json": {
              "type": "string"
            }
          },
          "metadata": {},
          "execution_count": 84
        }
      ]
    },
    {
      "cell_type": "code",
      "source": [
        "#  Save model weights\n",
        "best_model.save_weights(os.path.join(checkpoint_dir + \"model weights/\", \"model_weights\"))"
      ],
      "metadata": {
        "id": "SlnBs-qXZbvp"
      },
      "execution_count": 85,
      "outputs": []
    },
    {
      "cell_type": "markdown",
      "source": [
        "### **3.9.2 Save Scaler for Numerical Feature**"
      ],
      "metadata": {
        "id": "qq2vYVxIpMC2"
      }
    },
    {
      "cell_type": "code",
      "source": [
        "os.path.join(checkpoint_dir, \"title_vectorizer\")"
      ],
      "metadata": {
        "colab": {
          "base_uri": "https://localhost:8080/",
          "height": 36
        },
        "id": "SyNYefcvWlX2",
        "outputId": "f0d17bf0-ff4b-4361-f56b-855a6a35a467"
      },
      "execution_count": 86,
      "outputs": [
        {
          "output_type": "execute_result",
          "data": {
            "text/plain": [
              "'/content/drive/MyDrive/Colab Notebooks/Capstone - Course Recommender Systems/Model/2. Content-Based Filtering/title_vectorizer'"
            ],
            "application/vnd.google.colaboratory.intrinsic+json": {
              "type": "string"
            }
          },
          "metadata": {},
          "execution_count": 86
        }
      ]
    },
    {
      "cell_type": "code",
      "source": [
        "with open(os.path.join(checkpoint_dir, \"scaler.pkl\"), \"wb\") as f:\n",
        "    pickle.dump(scaler, f)"
      ],
      "metadata": {
        "id": "sw9Wl2C-pBz4"
      },
      "execution_count": 87,
      "outputs": []
    },
    {
      "cell_type": "markdown",
      "source": [
        "### **3.9.3 Simpan title_vectorizer dari Best Model**"
      ],
      "metadata": {
        "id": "yrDAgtpgWtUe"
      }
    },
    {
      "cell_type": "code",
      "source": [
        "# Ambil vectorizer dari model\n",
        "vectorizer_layer = best_model.course_model.title_vectorizer\n",
        "\n",
        "# Bungkus jadi model dummy\n",
        "vectorizer_model = tf.keras.Sequential([vectorizer_layer])\n",
        "\n",
        "# Simpan ke disk\n",
        "vectorizer_path = os.path.join(checkpoint_dir, \"title_vectorizer_model\")\n",
        "vectorizer_model.save(vectorizer_path)\n",
        "\n",
        "print(f\"✅ title_vectorizer berhasil disimpan ke {vectorizer_path}\")"
      ],
      "metadata": {
        "colab": {
          "base_uri": "https://localhost:8080/"
        },
        "id": "WPY0_fCnWhR5",
        "outputId": "107ba05b-0d9a-48f5-b3cd-eb999d76acd1"
      },
      "execution_count": 88,
      "outputs": [
        {
          "output_type": "stream",
          "name": "stderr",
          "text": [
            "WARNING:tensorflow:Compiled the loaded model, but the compiled metrics have yet to be built. `model.compile_metrics` will be empty until you train or evaluate the model.\n"
          ]
        },
        {
          "output_type": "stream",
          "name": "stdout",
          "text": [
            "✅ title_vectorizer berhasil disimpan ke /content/drive/MyDrive/Colab Notebooks/Capstone - Course Recommender Systems/Model/2. Content-Based Filtering/title_vectorizer_model\n"
          ]
        }
      ]
    },
    {
      "cell_type": "markdown",
      "source": [
        "### **3.9.4 Simpan Data Course IDs Vocabulary**"
      ],
      "metadata": {
        "id": "GCFI7VFLQNx9"
      }
    },
    {
      "cell_type": "code",
      "source": [
        "# Simpan list course_ids untuk referensi saat inferensi.\n",
        "with open(os.path.join(checkpoint_dir, \"course_ids.pkl\"), \"wb\") as f:\n",
        "    pickle.dump(df_courses[\"course_id\"].astype(str).tolist(), f)\n",
        "\n",
        "# Save subject\n",
        "with open(os.path.join(checkpoint_dir, \"subject_vocab.pkl\"), \"wb\") as f:\n",
        "    pickle.dump(subject_vocab, f)\n",
        "# Save level vocab\n",
        "with open(os.path.join(checkpoint_dir, \"level_vocab.pkl\"), \"wb\") as f:\n",
        "    pickle.dump(level_vocab, f)"
      ],
      "metadata": {
        "id": "EugeIO5lPp9M"
      },
      "execution_count": 89,
      "outputs": []
    },
    {
      "cell_type": "markdown",
      "source": [
        "## **3.10 Load dan Inference**"
      ],
      "metadata": {
        "id": "iXxHcb0_QgkE"
      }
    },
    {
      "cell_type": "code",
      "source": [
        "mainPath =  '/content/drive/MyDrive/Colab Notebooks/Capstone - Course Recommender Systems/' # Path of the main project\n",
        "checkpoint_dir = os.path.join(mainPath, 'Model/2. Content-Based Filtering/')"
      ],
      "metadata": {
        "id": "b4M3Rgaa-cO2"
      },
      "execution_count": 90,
      "outputs": []
    },
    {
      "cell_type": "code",
      "source": [
        "# Load necessary components to initialize the model\n",
        "with open(os.path.join(checkpoint_dir, \"course_ids.pkl\"), \"rb\") as f:\n",
        "    loaded_course_ids = pickle.load(f)\n",
        "\n",
        "# Load subject and level vocab if needed (if they were saved)\n",
        "with open(os.path.join(checkpoint_dir, \"subject_vocab.pkl\"), \"rb\") as f:\n",
        "    loaded_subject_vocab = pickle.load(f)\n",
        "\n",
        "with open(os.path.join(checkpoint_dir, \"level_vocab.pkl\"), \"rb\") as f:\n",
        "    loaded_level_vocab = pickle.load(f)"
      ],
      "metadata": {
        "id": "oF2fb4zUUvAp"
      },
      "execution_count": 91,
      "outputs": []
    },
    {
      "cell_type": "code",
      "source": [
        "vectorizer_path = os.path.join(checkpoint_dir, \"title_vectorizer_model\")\n",
        "\n",
        "# Now load the model by passing the correct arguments\n",
        "loaded_model = CourseModel(\n",
        "    embedding_dim=64,  # match the embedding_dim used during training\n",
        "    subject_vocab=loaded_subject_vocab,  # load subject vocab from the saved file\n",
        "    level_vocab=loaded_level_vocab,  # load level vocab from the saved file\n",
        "    course_ids=loaded_course_ids,  # load course IDs from the saved file\n",
        "    vectorizer_path=vectorizer_path  # ⬅️ Ini penting\n",
        ")\n",
        "\n",
        "# Compile the loaded model as done during training\n",
        "loaded_model.compile(optimizer=tf.keras.optimizers.Adam(learning_rate=0.005728265752083152))\n",
        "\n",
        "# Load the model weights\n",
        "loaded_model.load_weights(os.path.join(checkpoint_dir + \"model weights/\", \"model_weights\"))"
      ],
      "metadata": {
        "colab": {
          "base_uri": "https://localhost:8080/"
        },
        "id": "ahxDlJaCgDPk",
        "outputId": "810eef65-6c40-4cd4-f814-331895e9d050"
      },
      "execution_count": 92,
      "outputs": [
        {
          "output_type": "execute_result",
          "data": {
            "text/plain": [
              "<tensorflow.python.checkpoint.checkpoint.CheckpointLoadStatus at 0x7d21a13aaa50>"
            ]
          },
          "metadata": {},
          "execution_count": 92
        }
      ]
    },
    {
      "cell_type": "code",
      "source": [
        "print(\"\\n🧪 Cek vectorizer output:\")\n",
        "sample_titles = [\"Mutual Funds for Investors in Retirement Accounts\",\n",
        "                 \"Build Your First Website in 1 Week with HTML5 and CSS3\"]\n",
        "print(loaded_model.title_vectorizer(tf.constant(sample_titles)))"
      ],
      "metadata": {
        "colab": {
          "base_uri": "https://localhost:8080/"
        },
        "id": "Gec0Q0YCgJq_",
        "outputId": "c3d206e0-1573-4660-c2f6-ce16a8a8fcb6"
      },
      "execution_count": 93,
      "outputs": [
        {
          "output_type": "stream",
          "name": "stdout",
          "text": [
            "\n",
            "🧪 Cek vectorizer output:\n",
            "tf.Tensor(\n",
            "[[0.        0.        1.993607  ... 0.        0.        0.       ]\n",
            " [5.8614764 0.        0.        ... 0.        0.        0.       ]], shape=(2, 1000), dtype=float32)\n"
          ]
        }
      ]
    },
    {
      "cell_type": "code",
      "source": [
        "loaded_index = tfrs.layers.factorized_top_k.BruteForce(loaded_model)\n",
        "loaded_index.index_from_dataset(\n",
        "    tf_all_courses.map(lambda x: (x[\"course_id\"], loaded_model(x)))\n",
        ")"
      ],
      "metadata": {
        "colab": {
          "base_uri": "https://localhost:8080/"
        },
        "id": "5DiUWIcLfJWF",
        "outputId": "22dd0628-035f-4940-89a4-09a95daa0c3a"
      },
      "execution_count": 94,
      "outputs": [
        {
          "output_type": "execute_result",
          "data": {
            "text/plain": [
              "<tensorflow_recommenders.layers.factorized_top_k.BruteForce at 0x7d21aa415f10>"
            ]
          },
          "metadata": {},
          "execution_count": 94
        }
      ]
    },
    {
      "cell_type": "markdown",
      "source": [
        "### **3.10.1 Inference with Course ID**"
      ],
      "metadata": {
        "id": "4a29lDY1YlR6"
      }
    },
    {
      "cell_type": "code",
      "source": [
        "# --------------------------------------------------\n",
        "# Lookup Course Function\n",
        "\n",
        "def lookup_course(course_id_str):\n",
        "    \"\"\"Ambil dictionary fitur untuk 1 course berdasarkan ID string\"\"\"\n",
        "    row = df_courses[df_courses[\"course_id\"].astype(str) == course_id_str].iloc[0]\n",
        "    return {\n",
        "        \"course_id\": tf.constant([str(row[\"course_id\"])]),\n",
        "        \"course_title\": tf.constant([str(row[\"course_title\"])]),\n",
        "        \"subject\": tf.constant([str(row[\"subject\"])]),\n",
        "        \"level\": tf.constant([str(row[\"level\"])]),\n",
        "        \"price\": tf.constant([row[\"price\"]], dtype=tf.float32),\n",
        "        \"num_subscribers\": tf.constant([row[\"num_subscribers\"]], dtype=tf.float32),\n",
        "        \"num_reviews\": tf.constant([row[\"num_reviews\"]], dtype=tf.float32),\n",
        "        \"num_lectures\": tf.constant([row[\"num_lectures\"]], dtype=tf.float32),\n",
        "        \"content_duration\": tf.constant([row[\"content_duration\"]], dtype=tf.float32),\n",
        "    }\n",
        "print(\"✅ Sistem Lookup_course telah siap digunakan!\")"
      ],
      "metadata": {
        "colab": {
          "base_uri": "https://localhost:8080/"
        },
        "id": "-6m_AvpGghPE",
        "outputId": "1830604b-ae61-43aa-cfb3-c0139aeda879"
      },
      "execution_count": 95,
      "outputs": [
        {
          "output_type": "stream",
          "name": "stdout",
          "text": [
            "✅ Sistem Lookup_course telah siap digunakan!\n"
          ]
        }
      ]
    },
    {
      "cell_type": "code",
      "source": [
        "(df_courses[\"course_id\"].astype(str).values).tolist()[:5]"
      ],
      "metadata": {
        "colab": {
          "base_uri": "https://localhost:8080/"
        },
        "id": "u-uqfB5eiF85",
        "outputId": "6a6fc03b-f726-4154-a490-20cf65ed857a"
      },
      "execution_count": 96,
      "outputs": [
        {
          "output_type": "execute_result",
          "data": {
            "text/plain": [
              "['1070968', '1113822', '1006314', '1210588', '1011058']"
            ]
          },
          "metadata": {},
          "execution_count": 96
        }
      ]
    },
    {
      "cell_type": "code",
      "source": [
        "# --------------------------------------------------\n",
        "# INTERAKSI DENGAN USER UNTUK MEMASUKKAN COURSE ID\n",
        "\n",
        "while True:\n",
        "    print(\"\\n📥 Masukkan `course_id` untuk melihat rekomendasi (atau ketik 'exit' untuk keluar):\")\n",
        "    user_input = input(\">> \")\n",
        "\n",
        "    if user_input.lower() == \"exit\":\n",
        "        print(\"\\n👋 Terima kasih! Program selesai.\")\n",
        "        break\n",
        "\n",
        "    # Validasi input course ID\n",
        "    if user_input not in df_courses[\"course_id\"].astype(str).values:\n",
        "        print(\"⚠️  Course ID tidak ditemukan. Coba lagi dengan ID yang tersedia.\\n\")\n",
        "        print(\"🆔 Course ID yang tersedia:\", df_courses['course_id'].tolist())\n",
        "        continue\n",
        "\n",
        "    # Tampilkan info course yang dijadikan query\n",
        "    course_row = df_courses_raw[df_courses_raw[\"course_id\"].astype(str) == user_input].iloc[0]\n",
        "    print(\"\\n🔍 Course yang dijadikan dasar rekomendasi:\")\n",
        "    print(f\"   📘 ID        : {course_row['course_id']}\")\n",
        "    print(f\"   📚 Title     : {course_row['course_title']}\")\n",
        "    print(f\"   🧩 Subject   : {course_row['subject']}\")\n",
        "    print(f\"   🎯 Level     : {course_row['level']}\")\n",
        "    print(f\"   💰 Price     : {course_row['price']}\")\n",
        "    print(f\"   👥 Subscribers: {course_row['num_subscribers']}\\n\")\n",
        "\n",
        "    # Cari rekomendasi\n",
        "    query_features = lookup_course(user_input)\n",
        "    # scores, ids = loaded_index(query_features, k=len(df_courses))\n",
        "    scores, ids = loaded_index(query_features, k=5)\n",
        "\n",
        "    print(\"📎 Rekomendasi berdasarkan course tersebut:\")\n",
        "    for score, course_id in zip(scores[0].numpy(), ids[0].numpy()):\n",
        "        course_id_str = course_id.decode('utf-8')\n",
        "        recommended = df_courses_raw[df_courses_raw[\"course_id\"].astype(str) == course_id_str].iloc[0]\n",
        "        print(f\"   🔗 Course ID: {course_id_str} | 📘 Title: {recommended['course_title']} | ⭐ Skor: {score:.4f}\")"
      ],
      "metadata": {
        "colab": {
          "base_uri": "https://localhost:8080/"
        },
        "outputId": "28643154-851b-4128-a089-abefd9ed4cb7",
        "id": "_DcYZbQpVBGg"
      },
      "execution_count": 97,
      "outputs": [
        {
          "output_type": "stream",
          "name": "stdout",
          "text": [
            "\n",
            "📥 Masukkan `course_id` untuk melihat rekomendasi (atau ketik 'exit' untuk keluar):\n",
            ">> 1006314\n",
            "\n",
            "🔍 Course yang dijadikan dasar rekomendasi:\n",
            "   📘 ID        : 1006314\n",
            "   📚 Title     : Financial Modeling for Business Analysts and Consultants\n",
            "   🧩 Subject   : Business Finance\n",
            "   🎯 Level     : Intermediate Level\n",
            "   💰 Price     : 45\n",
            "   👥 Subscribers: 2174\n",
            "\n",
            "📎 Rekomendasi berdasarkan course tersebut:\n",
            "   🔗 Course ID: 801702 | 📘 Title: Geld verdienen mit dem Ticken der Uhr, wie Warren Buffett! | ⭐ Skor: 85.7611\n",
            "   🔗 Course ID: 1201912 | 📘 Title: high swing - كورس لتعليم جميع مراحل احتراف تداول الفوركس | ⭐ Skor: 85.3114\n",
            "   🔗 Course ID: 1066002 | 📘 Title: Leve a sua técnica de pedal duplo para um novo patamar | ⭐ Skor: 81.1396\n",
            "   🔗 Course ID: 1265814 | 📘 Title: ABRSM Grade III Piano Class - Handel Sonatina in G 2017-2018 | ⭐ Skor: 78.8843\n",
            "   🔗 Course ID: 149716 | 📘 Title: Learn to Play Fernando Sor's 'Study in B minor\",https://www.udemy.com/study-in-b-minor/,true,115,1403,5,9,Intermediate Level,43 mins,2014-01-27T20:58:16Z\n",
            "398746,Piano: The Chord Based System - Learn To Play As The Pros Do\" | ⭐ Skor: 78.2172\n",
            "\n",
            "📥 Masukkan `course_id` untuk melihat rekomendasi (atau ketik 'exit' untuk keluar):\n",
            ">> 149716\n",
            "\n",
            "🔍 Course yang dijadikan dasar rekomendasi:\n",
            "   📘 ID        : 149716\n",
            "   📚 Title     : Learn to Play Fernando Sor's 'Study in B minor\",https://www.udemy.com/study-in-b-minor/,true,115,1403,5,9,Intermediate Level,43 mins,2014-01-27T20:58:16Z\n",
            "398746,Piano: The Chord Based System - Learn To Play As The Pros Do\"\n",
            "   🧩 Subject   : Musical Instruments\n",
            "   🎯 Level     : All Levels\n",
            "   💰 Price     : 115\n",
            "   👥 Subscribers: 595\n",
            "\n",
            "📎 Rekomendasi berdasarkan course tersebut:\n",
            "   🔗 Course ID: 149716 | 📘 Title: Learn to Play Fernando Sor's 'Study in B minor\",https://www.udemy.com/study-in-b-minor/,true,115,1403,5,9,Intermediate Level,43 mins,2014-01-27T20:58:16Z\n",
            "398746,Piano: The Chord Based System - Learn To Play As The Pros Do\" | ⭐ Skor: 380.5328\n",
            "   🔗 Course ID: 801702 | 📘 Title: Geld verdienen mit dem Ticken der Uhr, wie Warren Buffett! | ⭐ Skor: 373.4081\n",
            "   🔗 Course ID: 1201912 | 📘 Title: high swing - كورس لتعليم جميع مراحل احتراف تداول الفوركس | ⭐ Skor: 366.1494\n",
            "   🔗 Course ID: 1066002 | 📘 Title: Leve a sua técnica de pedal duplo para um novo patamar | ⭐ Skor: 348.6107\n",
            "   🔗 Course ID: 1265814 | 📘 Title: ABRSM Grade III Piano Class - Handel Sonatina in G 2017-2018 | ⭐ Skor: 341.7305\n",
            "\n",
            "📥 Masukkan `course_id` untuk melihat rekomendasi (atau ketik 'exit' untuk keluar):\n",
            ">> exit\n",
            "\n",
            "👋 Terima kasih! Program selesai.\n"
          ]
        }
      ]
    },
    {
      "cell_type": "markdown",
      "source": [
        "### **3.10.2 Inference with Course Tilte and Matching System**"
      ],
      "metadata": {
        "id": "HIJdNZnTYqW2"
      }
    },
    {
      "cell_type": "code",
      "source": [
        "def get_best_match(title_input, title_list, cutoff=0.5):\n",
        "    \"\"\"\n",
        "    Cari judul course terdekat berdasarkan input, mirip autocomplete/fuzzy.\n",
        "    \"\"\"\n",
        "    matches = difflib.get_close_matches(title_input.lower(), [t.lower() for t in title_list], n=1, cutoff=cutoff)\n",
        "    if matches:\n",
        "        matched_title = matches[0]\n",
        "        for original in title_list:\n",
        "            if original.lower() == matched_title:\n",
        "                return original\n",
        "    else:\n",
        "        # Kalau nggak nemu fuzzy match, coba keyword search\n",
        "        for title in title_list:\n",
        "            if title_input.lower() in title.lower():\n",
        "                return title\n",
        "    return None"
      ],
      "metadata": {
        "id": "awhEFvKrX6ND"
      },
      "execution_count": 55,
      "outputs": []
    },
    {
      "cell_type": "code",
      "source": [
        "def lookup_course_by_title(course_title_str):\n",
        "    \"\"\"Ambil dictionary fitur untuk 1 course berdasarkan judul\"\"\"\n",
        "    # Ambil data mentah (raw) dari df_courses_raw, bukan df_courses yang sudah dinormalisasi\n",
        "    row = df_courses_raw[df_courses_raw[\"course_title\"].str.lower().str.strip() == course_title_str.lower().strip()].iloc[0]\n",
        "\n",
        "    return {\n",
        "        \"course_id\": tf.constant([str(row[\"course_id\"])]),\n",
        "        \"course_title\": tf.constant([str(row[\"course_title\"])]),\n",
        "        \"subject\": tf.constant([str(row[\"subject\"])]),\n",
        "        \"level\": tf.constant([str(row[\"level\"])]),\n",
        "        \"price\": tf.constant([row[\"price\"]], dtype=tf.float32),  # Gunakan harga mentah\n",
        "        \"num_subscribers\": tf.constant([row[\"num_subscribers\"]], dtype=tf.float32),  # Gunakan subscribers mentah\n",
        "        \"num_reviews\": tf.constant([row[\"num_reviews\"]], dtype=tf.float32),\n",
        "        \"num_lectures\": tf.constant([row[\"num_lectures\"]], dtype=tf.float32),\n",
        "        \"content_duration\": tf.constant([row[\"content_duration\"]], dtype=tf.float32),\n",
        "    }"
      ],
      "metadata": {
        "id": "bAz0zyPEXd3F"
      },
      "execution_count": 56,
      "outputs": []
    },
    {
      "cell_type": "code",
      "source": [
        "while True:\n",
        "    print(\"\\n📥 Masukkan *judul course* untuk melihat rekomendasi (atau ketik 'exit'):\")\n",
        "    user_input = input(\">> \")\n",
        "\n",
        "    if user_input.lower() == \"exit\":\n",
        "        print(\"\\n👋 Terima kasih! Program selesai.\")\n",
        "        break\n",
        "\n",
        "    # Validasi: apakah judul ada di data\n",
        "    matched_rows = df_courses[df_courses[\"course_title\"].str.lower().str.strip() == user_input.lower().strip()]\n",
        "    if matched_rows.empty:\n",
        "        print(\"⚠️  Judul course tidak ditemukan. Coba lagi.\\n\")\n",
        "        print(\"📝 Judul yang tersedia:\")\n",
        "        for title in df_courses[\"course_title\"]:\n",
        "            print(f\" - {title}\")\n",
        "        continue\n",
        "\n",
        "    # Ambil course row & fitur\n",
        "    row = matched_rows.iloc[0]\n",
        "    query_features = lookup_course_by_title(row[\"course_title\"])\n",
        "\n",
        "    # Tampilkan info course\n",
        "    print(\"\\n🔍 Course yang dijadikan dasar rekomendasi:\")\n",
        "    print(f\"   📘 ID        : {row['course_id']}\")\n",
        "    print(f\"   📚 Title     : {row['course_title']}\")\n",
        "    print(f\"   🧩 Subject   : {row['subject']}\")\n",
        "    print(f\"   🎯 Level     : {row['level']}\")\n",
        "    print(f\"   💰 Price     : {row['price']}\")\n",
        "    print(f\"   👥 Subscribers: {row['num_subscribers']}\\n\")\n",
        "\n",
        "    # Dapatkan skor dan ID untuk rekomendasi\n",
        "    scores, ids = loaded_index(query_features, k=len(df_courses))\n",
        "\n",
        "\n",
        "    # Menghitung jumlah rekomendasi yang diinginkan oleh user\n",
        "    print(f\"\\nKami memiliki sebanyak {len(ids[0])} rekomendasi untukmu!\")\n",
        "    print(f\"Berapa banyak rekomendasi yang ingin kamu lihat? (Masukkan angka antara 1 sampai {len(ids[0])}):\")\n",
        "    num_recommendations = int(input(\">> \"))\n",
        "    if num_recommendations > len(ids[0]):\n",
        "        num_recommendations = len(ids[0])  # Jika input lebih banyak dari yang tersedia, sesuaikan\n",
        "\n",
        "    print(f\"\\n🔎 Rekomendasi berdasarkan course tersebut (Menampilkan {num_recommendations} rekomendasi terbaik):\")\n",
        "\n",
        "    # Filter hanya yang memiliki skor positif\n",
        "    recommended_ids = []\n",
        "    recommended_scores = []\n",
        "    for score, course_id in zip(scores[0].numpy(), ids[0].numpy()):\n",
        "        if score > 0:  # Hanya menampilkan skor positif\n",
        "            recommended_ids.append(course_id.decode('utf-8'))\n",
        "            recommended_scores.append(score)\n",
        "\n",
        "    # Jika rekomendasi lebih sedikit dari permintaan, sesuaikan\n",
        "    for i in range(min(num_recommendations, len(recommended_ids))):\n",
        "        course_id_str = recommended_ids[i]\n",
        "        recommended = df_courses[df_courses[\"course_id\"].astype(str) == course_id_str].iloc[0]\n",
        "        print(f\"   🔗 Course ID: {course_id_str} | 📘 Title: {recommended['course_title']} | ⭐ Skor: {recommended_scores[i]:.4f}\")\n",
        "\n",
        "    if len(recommended_ids) == 0:\n",
        "        print(\"⚠️ Tidak ada rekomendasi dengan skor positif.\")"
      ],
      "metadata": {
        "colab": {
          "base_uri": "https://localhost:8080/"
        },
        "id": "P-df2c3gXd0h",
        "outputId": "09aa420d-c321-4b9e-e47f-093f02c1a44f"
      },
      "execution_count": 57,
      "outputs": [
        {
          "output_type": "stream",
          "name": "stdout",
          "text": [
            "\n",
            "📥 Masukkan *judul course* untuk melihat rekomendasi (atau ketik 'exit'):\n",
            ">> Ultimate Investment Banking Course\n",
            "\n",
            "🔍 Course yang dijadikan dasar rekomendasi:\n",
            "   📘 ID        : 1070968\n",
            "   📚 Title     : Ultimate Investment Banking Course\n",
            "   🧩 Subject   : Business Finance\n",
            "   🎯 Level     : All Levels\n",
            "   💰 Price     : 1.0\n",
            "   👥 Subscribers: 0.00798369793584037\n",
            "\n",
            "\n",
            "Kami memiliki sebanyak 3672 rekomendasi untukmu!\n",
            "Berapa banyak rekomendasi yang ingin kamu lihat? (Masukkan angka antara 1 sampai 3672):\n",
            ">> 5\n",
            "\n",
            "🔎 Rekomendasi berdasarkan course tersebut (Menampilkan 5 rekomendasi terbaik):\n",
            "   🔗 Course ID: 1066002 | 📘 Title: Leve a sua técnica de pedal duplo para um novo patamar | ⭐ Skor: 245.6981\n",
            "   🔗 Course ID: 1265814 | 📘 Title: ABRSM Grade III Piano Class - Handel Sonatina in G 2017-2018 | ⭐ Skor: 226.3340\n",
            "   🔗 Course ID: 801702 | 📘 Title: Geld verdienen mit dem Ticken der Uhr, wie Warren Buffett! | ⭐ Skor: 212.9025\n",
            "   🔗 Course ID: 743634 | 📘 Title: Piano With Willie: Blues n' Boogie Vol. 1 | ⭐ Skor: 210.0908\n",
            "   🔗 Course ID: 410196 | 📘 Title: DIY: Reduce Unpaid Federal Tax thru  IRS Offer in Compromise | ⭐ Skor: 205.5186\n",
            "\n",
            "📥 Masukkan *judul course* untuk melihat rekomendasi (atau ketik 'exit'):\n",
            ">> Leve a sua técnica de pedal duplo para um novo patamar\n",
            "\n",
            "🔍 Course yang dijadikan dasar rekomendasi:\n",
            "   📘 ID        : 1066002\n",
            "   📚 Title     : Leve a sua técnica de pedal duplo para um novo patamar\n",
            "   🧩 Subject   : Musical Instruments\n",
            "   🎯 Level     : Intermediate Level\n",
            "   💰 Price     : 0.2\n",
            "   👥 Subscribers: 0.00015617853437601098\n",
            "\n",
            "\n",
            "Kami memiliki sebanyak 3672 rekomendasi untukmu!\n",
            "Berapa banyak rekomendasi yang ingin kamu lihat? (Masukkan angka antara 1 sampai 3672):\n",
            ">> 3\n",
            "\n",
            "🔎 Rekomendasi berdasarkan course tersebut (Menampilkan 3 rekomendasi terbaik):\n",
            "   🔗 Course ID: 1066002 | 📘 Title: Leve a sua técnica de pedal duplo para um novo patamar | ⭐ Skor: 86.8287\n",
            "   🔗 Course ID: 149716 | 📘 Title: Learn to Play Fernando Sor's 'Study in B minor\",https://www.udemy.com/study-in-b-minor/,true,115,1403,5,9,Intermediate Level,43 mins,2014-01-27T20:58:16Z\n",
            "398746,Piano: The Chord Based System - Learn To Play As The Pros Do\" | ⭐ Skor: 82.6740\n",
            "   🔗 Course ID: 801702 | 📘 Title: Geld verdienen mit dem Ticken der Uhr, wie Warren Buffett! | ⭐ Skor: 77.5167\n",
            "\n",
            "📥 Masukkan *judul course* untuk melihat rekomendasi (atau ketik 'exit'):\n",
            ">> exit\n",
            "\n",
            "👋 Terima kasih! Program selesai.\n"
          ]
        }
      ]
    }
  ],
  "metadata": {
    "colab": {
      "provenance": []
    },
    "kernelspec": {
      "display_name": "Python 3",
      "name": "python3"
    },
    "language_info": {
      "name": "python"
    }
  },
  "nbformat": 4,
  "nbformat_minor": 0
}